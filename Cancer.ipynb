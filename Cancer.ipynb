{
 "cells": [
  {
   "cell_type": "markdown",
   "id": "dependent-master",
   "metadata": {},
   "source": [
    "## import libraries"
   ]
  },
  {
   "cell_type": "code",
   "execution_count": 1,
   "id": "periodic-optimum",
   "metadata": {},
   "outputs": [],
   "source": [
    "import numpy as np\n",
    "import pandas as pd\n",
    "import matplotlib.pyplot as plt\n",
    "%matplotlib inline"
   ]
  },
  {
   "cell_type": "markdown",
   "id": "monthly-survivor",
   "metadata": {},
   "source": [
    "## load dataset\n",
    "## Wisconsin Breast Cancer Database\n",
    "\n",
    "   Attributes 2 through 10 have been used to represent instances.\n",
    "   \n",
    "   Each instance has one of 2 possible classes: benign or malignant."
   ]
  },
  {
   "cell_type": "code",
   "execution_count": 2,
   "id": "visible-mailing",
   "metadata": {},
   "outputs": [
    {
     "data": {
      "text/html": [
       "<div>\n",
       "<style scoped>\n",
       "    .dataframe tbody tr th:only-of-type {\n",
       "        vertical-align: middle;\n",
       "    }\n",
       "\n",
       "    .dataframe tbody tr th {\n",
       "        vertical-align: top;\n",
       "    }\n",
       "\n",
       "    .dataframe thead th {\n",
       "        text-align: right;\n",
       "    }\n",
       "</style>\n",
       "<table border=\"1\" class=\"dataframe\">\n",
       "  <thead>\n",
       "    <tr style=\"text-align: right;\">\n",
       "      <th></th>\n",
       "      <th>Samplecodenumber</th>\n",
       "      <th>ClumpThickness</th>\n",
       "      <th>UniformityofCellSize</th>\n",
       "      <th>UniformityofCellShape</th>\n",
       "      <th>MarginalAdhesion</th>\n",
       "      <th>SingleEpithelialCellSize</th>\n",
       "      <th>BareNuclei</th>\n",
       "      <th>BlandChromatin</th>\n",
       "      <th>NormalNucleoli</th>\n",
       "      <th>Mitoses</th>\n",
       "      <th>Class</th>\n",
       "    </tr>\n",
       "  </thead>\n",
       "  <tbody>\n",
       "    <tr>\n",
       "      <th>0</th>\n",
       "      <td>1000025</td>\n",
       "      <td>5</td>\n",
       "      <td>1</td>\n",
       "      <td>1</td>\n",
       "      <td>1</td>\n",
       "      <td>2</td>\n",
       "      <td>1</td>\n",
       "      <td>3</td>\n",
       "      <td>1</td>\n",
       "      <td>1</td>\n",
       "      <td>2</td>\n",
       "    </tr>\n",
       "    <tr>\n",
       "      <th>1</th>\n",
       "      <td>1002945</td>\n",
       "      <td>5</td>\n",
       "      <td>4</td>\n",
       "      <td>4</td>\n",
       "      <td>5</td>\n",
       "      <td>7</td>\n",
       "      <td>10</td>\n",
       "      <td>3</td>\n",
       "      <td>2</td>\n",
       "      <td>1</td>\n",
       "      <td>2</td>\n",
       "    </tr>\n",
       "    <tr>\n",
       "      <th>2</th>\n",
       "      <td>1015425</td>\n",
       "      <td>3</td>\n",
       "      <td>1</td>\n",
       "      <td>1</td>\n",
       "      <td>1</td>\n",
       "      <td>2</td>\n",
       "      <td>2</td>\n",
       "      <td>3</td>\n",
       "      <td>1</td>\n",
       "      <td>1</td>\n",
       "      <td>2</td>\n",
       "    </tr>\n",
       "    <tr>\n",
       "      <th>3</th>\n",
       "      <td>1016277</td>\n",
       "      <td>6</td>\n",
       "      <td>8</td>\n",
       "      <td>8</td>\n",
       "      <td>1</td>\n",
       "      <td>3</td>\n",
       "      <td>4</td>\n",
       "      <td>3</td>\n",
       "      <td>7</td>\n",
       "      <td>1</td>\n",
       "      <td>2</td>\n",
       "    </tr>\n",
       "    <tr>\n",
       "      <th>4</th>\n",
       "      <td>1017023</td>\n",
       "      <td>4</td>\n",
       "      <td>1</td>\n",
       "      <td>1</td>\n",
       "      <td>3</td>\n",
       "      <td>2</td>\n",
       "      <td>1</td>\n",
       "      <td>3</td>\n",
       "      <td>1</td>\n",
       "      <td>1</td>\n",
       "      <td>2</td>\n",
       "    </tr>\n",
       "    <tr>\n",
       "      <th>5</th>\n",
       "      <td>1017122</td>\n",
       "      <td>8</td>\n",
       "      <td>10</td>\n",
       "      <td>10</td>\n",
       "      <td>8</td>\n",
       "      <td>7</td>\n",
       "      <td>10</td>\n",
       "      <td>9</td>\n",
       "      <td>7</td>\n",
       "      <td>1</td>\n",
       "      <td>4</td>\n",
       "    </tr>\n",
       "  </tbody>\n",
       "</table>\n",
       "</div>"
      ],
      "text/plain": [
       "   Samplecodenumber  ClumpThickness  UniformityofCellSize  \\\n",
       "0           1000025               5                     1   \n",
       "1           1002945               5                     4   \n",
       "2           1015425               3                     1   \n",
       "3           1016277               6                     8   \n",
       "4           1017023               4                     1   \n",
       "5           1017122               8                    10   \n",
       "\n",
       "   UniformityofCellShape  MarginalAdhesion  SingleEpithelialCellSize  \\\n",
       "0                      1                 1                         2   \n",
       "1                      4                 5                         7   \n",
       "2                      1                 1                         2   \n",
       "3                      8                 1                         3   \n",
       "4                      1                 3                         2   \n",
       "5                     10                 8                         7   \n",
       "\n",
       "  BareNuclei  BlandChromatin  NormalNucleoli  Mitoses  Class  \n",
       "0          1               3               1        1      2  \n",
       "1         10               3               2        1      2  \n",
       "2          2               3               1        1      2  \n",
       "3          4               3               7        1      2  \n",
       "4          1               3               1        1      2  \n",
       "5         10               9               7        1      4  "
      ]
     },
     "execution_count": 2,
     "metadata": {},
     "output_type": "execute_result"
    }
   ],
   "source": [
    "df = pd.read_csv('breast-cancer-wisconsin-data.txt')\n",
    "df.head(6)"
   ]
  },
  {
   "cell_type": "markdown",
   "id": "noted-sterling",
   "metadata": {},
   "source": [
    "   #  Attribute                     Domain\n",
    "   -- -----------------------------------------\n",
    "   1. Sample code number            id number\n",
    "   2. Clump Thickness               1 - 10\n",
    "   3. Uniformity of Cell Size       1 - 10\n",
    "   4. Uniformity of Cell Shape      1 - 10\n",
    "   5. Marginal Adhesion             1 - 10\n",
    "   6. Single Epithelial Cell Size   1 - 10\n",
    "   7. Bare Nuclei                   1 - 10\n",
    "   8. Bland Chromatin               1 - 10\n",
    "   9. Normal Nucleoli               1 - 10\n",
    "   10.  Mitoses                       1 - 10\n",
    "   11.  Class:                       (2 for benign, 4 for malignant)"
   ]
  },
  {
   "cell_type": "markdown",
   "id": "ranking-convert",
   "metadata": {},
   "source": [
    "Number of Instances: 699\n",
    "\n",
    "Number of Attributes: 10 plus the class attribute"
   ]
  },
  {
   "cell_type": "code",
   "execution_count": 3,
   "id": "processed-librarian",
   "metadata": {},
   "outputs": [
    {
     "data": {
      "text/plain": [
       "(699, 11)"
      ]
     },
     "execution_count": 3,
     "metadata": {},
     "output_type": "execute_result"
    }
   ],
   "source": [
    "df.shape"
   ]
  },
  {
   "cell_type": "markdown",
   "id": "elegant-gates",
   "metadata": {},
   "source": [
    "## information about features"
   ]
  },
  {
   "cell_type": "code",
   "execution_count": 4,
   "id": "improving-validation",
   "metadata": {},
   "outputs": [
    {
     "name": "stdout",
     "output_type": "stream",
     "text": [
      "<class 'pandas.core.frame.DataFrame'>\n",
      "RangeIndex: 699 entries, 0 to 698\n",
      "Data columns (total 11 columns):\n",
      " #   Column                    Non-Null Count  Dtype \n",
      "---  ------                    --------------  ----- \n",
      " 0   Samplecodenumber          699 non-null    int64 \n",
      " 1   ClumpThickness            699 non-null    int64 \n",
      " 2   UniformityofCellSize      699 non-null    int64 \n",
      " 3   UniformityofCellShape     699 non-null    int64 \n",
      " 4   MarginalAdhesion          699 non-null    int64 \n",
      " 5   SingleEpithelialCellSize  699 non-null    int64 \n",
      " 6   BareNuclei                699 non-null    object\n",
      " 7   BlandChromatin            699 non-null    int64 \n",
      " 8   NormalNucleoli            699 non-null    int64 \n",
      " 9   Mitoses                   699 non-null    int64 \n",
      " 10  Class                     699 non-null    int64 \n",
      "dtypes: int64(10), object(1)\n",
      "memory usage: 60.2+ KB\n"
     ]
    }
   ],
   "source": [
    "df.info()"
   ]
  },
  {
   "cell_type": "markdown",
   "id": "honey-chaos",
   "metadata": {},
   "source": [
    "## find missing values"
   ]
  },
  {
   "cell_type": "code",
   "execution_count": 5,
   "id": "steady-timber",
   "metadata": {},
   "outputs": [
    {
     "data": {
      "text/plain": [
       "(array([0], dtype=int64),)"
      ]
     },
     "execution_count": 5,
     "metadata": {},
     "output_type": "execute_result"
    }
   ],
   "source": [
    "np.where(df.isnull)"
   ]
  },
  {
   "cell_type": "markdown",
   "id": "surprised-floating",
   "metadata": {},
   "source": [
    "## find missing values in BareNuclei feature\n",
    "BareNuclei feature must be int64 type, but it's object. maybe it have especial character as missing values.\n",
    "we check values."
   ]
  },
  {
   "cell_type": "code",
   "execution_count": 6,
   "id": "brazilian-gates",
   "metadata": {},
   "outputs": [
    {
     "data": {
      "text/plain": [
       "1     402\n",
       "10    132\n",
       "5      30\n",
       "2      30\n",
       "3      28\n",
       "8      21\n",
       "4      19\n",
       "?      16\n",
       "9       9\n",
       "7       8\n",
       "6       4\n",
       "Name: BareNuclei, dtype: int64"
      ]
     },
     "execution_count": 6,
     "metadata": {},
     "output_type": "execute_result"
    }
   ],
   "source": [
    "df['BareNuclei'].value_counts()"
   ]
  },
  {
   "cell_type": "markdown",
   "id": "sharing-parade",
   "metadata": {},
   "source": [
    "### delete rows that have \"?\" character as missing values"
   ]
  },
  {
   "cell_type": "code",
   "execution_count": 7,
   "id": "honey-lodge",
   "metadata": {},
   "outputs": [],
   "source": [
    "df.replace(\"?\", np.NAN, inplace=True)\n",
    "df = df.dropna()"
   ]
  },
  {
   "cell_type": "code",
   "execution_count": 8,
   "id": "electrical-carnival",
   "metadata": {},
   "outputs": [
    {
     "data": {
      "text/plain": [
       "1     402\n",
       "10    132\n",
       "5      30\n",
       "2      30\n",
       "3      28\n",
       "8      21\n",
       "4      19\n",
       "9       9\n",
       "7       8\n",
       "6       4\n",
       "Name: BareNuclei, dtype: int64"
      ]
     },
     "execution_count": 8,
     "metadata": {},
     "output_type": "execute_result"
    }
   ],
   "source": [
    "df['BareNuclei'].value_counts()"
   ]
  },
  {
   "cell_type": "markdown",
   "id": "nuclear-relaxation",
   "metadata": {},
   "source": [
    "## define X and y datasets"
   ]
  },
  {
   "cell_type": "code",
   "execution_count": 9,
   "id": "short-pointer",
   "metadata": {},
   "outputs": [],
   "source": [
    "X = df.drop(['Class', 'Samplecodenumber'], axis=1)\n",
    "y = df['Class']"
   ]
  },
  {
   "cell_type": "markdown",
   "id": "friendly-happening",
   "metadata": {},
   "source": [
    "## split train and test datasets by model selection\n",
    "We divide the data into two categories: training and testing.\n",
    "\n",
    "70% for training and 30% for testing."
   ]
  },
  {
   "cell_type": "code",
   "execution_count": 10,
   "id": "forty-administrator",
   "metadata": {},
   "outputs": [],
   "source": [
    "from sklearn.model_selection import train_test_split\n",
    "X_train, X_test, y_train, y_test = train_test_split(X, y, test_size=0.3)"
   ]
  },
  {
   "cell_type": "markdown",
   "id": "composed-thesis",
   "metadata": {},
   "source": [
    "## define a function to print results of models"
   ]
  },
  {
   "cell_type": "code",
   "execution_count": 11,
   "id": "sitting-purchase",
   "metadata": {},
   "outputs": [],
   "source": [
    "def print_score(clf, X_train, y_train, X_test, y_test, train=True):\n",
    "    '''\n",
    "    print the accuracy score, classification report and confusion matrix of classifier\n",
    "    '''\n",
    "    '''\n",
    "    training performance\n",
    "    '''\n",
    "    if train:\n",
    "        print(\"Train results:\\n\")\n",
    "        print(\"Accuracy score: {0:.4f} \\n\".format(accuracy_score(y_train, clf.predict(X_train))))\n",
    "        print(\"Classification report: {} \\n\".format(classification_report(y_train, clf.predict(X_train))))\n",
    "        print(\"Confusion matrix:\\n {} \\n\".format(confusion_matrix(y_train, clf.predict(X_train))))\n",
    "        \n",
    "        res = cross_val_score(clf, X_train, y_train, cv=10, scoring='accuracy')\n",
    "        print(\"Average accuracy: \\t {0:.4f}\".format(np.mean(res)))\n",
    "        print(\"Accuracy SD: \\t\\t {0:.4f}\".format(np.std(res)))\n",
    "        \n",
    "    elif train==False:\n",
    "        '''\n",
    "        test performance\n",
    "        '''\n",
    "        print(\"Test results:\\n\")\n",
    "        print(\"Accuracy score: {0:.4f} \\n\".format(accuracy_score(y_test, clf.predict(X_test))))\n",
    "        print(\"Classification report: {} \\n\".format(classification_report(y_test, clf.predict(X_test))))\n",
    "        print(\"Confusion matrix:\\n {} \\n\".format(confusion_matrix(y_test, clf.predict(X_test))))"
   ]
  },
  {
   "cell_type": "markdown",
   "id": "personal-killing",
   "metadata": {},
   "source": [
    "## decision tree model"
   ]
  },
  {
   "cell_type": "code",
   "execution_count": 12,
   "id": "integral-attempt",
   "metadata": {},
   "outputs": [
    {
     "data": {
      "text/plain": [
       "DecisionTreeClassifier()"
      ]
     },
     "execution_count": 12,
     "metadata": {},
     "output_type": "execute_result"
    }
   ],
   "source": [
    "from sklearn import tree\n",
    "DT_clf = tree.DecisionTreeClassifier()\n",
    "DT_clf.fit(X_train, y_train)"
   ]
  },
  {
   "cell_type": "code",
   "execution_count": 13,
   "id": "institutional-grass",
   "metadata": {},
   "outputs": [],
   "source": [
    "from sklearn.model_selection import cross_val_score\n",
    "from sklearn.metrics import accuracy_score, classification_report, confusion_matrix"
   ]
  },
  {
   "cell_type": "markdown",
   "id": "advisory-burns",
   "metadata": {},
   "source": [
    "## results of decision tree model for train set"
   ]
  },
  {
   "cell_type": "code",
   "execution_count": 14,
   "id": "chronic-dylan",
   "metadata": {},
   "outputs": [
    {
     "name": "stdout",
     "output_type": "stream",
     "text": [
      "Train results:\n",
      "\n",
      "Accuracy score: 1.0000 \n",
      "\n",
      "Classification report:               precision    recall  f1-score   support\n",
      "\n",
      "           2       1.00      1.00      1.00       299\n",
      "           4       1.00      1.00      1.00       179\n",
      "\n",
      "    accuracy                           1.00       478\n",
      "   macro avg       1.00      1.00      1.00       478\n",
      "weighted avg       1.00      1.00      1.00       478\n",
      " \n",
      "\n",
      "Confusion matrix:\n",
      " [[299   0]\n",
      " [  0 179]] \n",
      "\n",
      "Average accuracy: \t 0.9288\n",
      "Accuracy SD: \t\t 0.0287\n"
     ]
    }
   ],
   "source": [
    "print_score(DT_clf, X_train, y_train, X_test, y_test, train=True)"
   ]
  },
  {
   "cell_type": "markdown",
   "id": "bizarre-meaning",
   "metadata": {},
   "source": [
    "## results of decision tree model for test set"
   ]
  },
  {
   "cell_type": "code",
   "execution_count": 15,
   "id": "above-climb",
   "metadata": {},
   "outputs": [
    {
     "name": "stdout",
     "output_type": "stream",
     "text": [
      "Test results:\n",
      "\n",
      "Accuracy score: 0.9512 \n",
      "\n",
      "Classification report:               precision    recall  f1-score   support\n",
      "\n",
      "           2       0.97      0.97      0.97       145\n",
      "           4       0.92      0.92      0.92        60\n",
      "\n",
      "    accuracy                           0.95       205\n",
      "   macro avg       0.94      0.94      0.94       205\n",
      "weighted avg       0.95      0.95      0.95       205\n",
      " \n",
      "\n",
      "Confusion matrix:\n",
      " [[140   5]\n",
      " [  5  55]] \n",
      "\n"
     ]
    }
   ],
   "source": [
    "print_score(DT_clf, X_train, y_train, X_test, y_test, train=False)"
   ]
  },
  {
   "cell_type": "markdown",
   "id": "engaging-cologne",
   "metadata": {},
   "source": [
    "## precision and recall score for decision tree model"
   ]
  },
  {
   "cell_type": "code",
   "execution_count": 16,
   "id": "curious-short",
   "metadata": {},
   "outputs": [
    {
     "name": "stdout",
     "output_type": "stream",
     "text": [
      "Average precision-recall score: 0.69\n"
     ]
    }
   ],
   "source": [
    "from sklearn.metrics import average_precision_score\n",
    "\n",
    "average_precision = average_precision_score(y_test, DT_clf.predict(X_test), pos_label=2)\n",
    "\n",
    "print('Average precision-recall score: {0:0.2f}'.format(\n",
    "      average_precision))"
   ]
  },
  {
   "cell_type": "markdown",
   "id": "pharmaceutical-leonard",
   "metadata": {},
   "source": [
    "## precision and recall plot for decision tree model"
   ]
  },
  {
   "cell_type": "code",
   "execution_count": 17,
   "id": "important-findings",
   "metadata": {},
   "outputs": [
    {
     "data": {
      "image/png": "[encoded data removed]",
      "text/plain": [
       "<Figure size 432x288 with 1 Axes>"
      ]
     },
     "metadata": {
      "needs_background": "light"
     },
     "output_type": "display_data"
    }
   ],
   "source": [
    "from sklearn.metrics import precision_recall_curve\n",
    "from sklearn.metrics import plot_precision_recall_curve\n",
    "\n",
    "average_precision = average_precision_score(y_test, DT_clf.predict(X_test), pos_label=2)\n",
    "\n",
    "disp = plot_precision_recall_curve(DT_clf, X_test, y_test)\n",
    "disp.ax_.set_title('2-class Precision-Recall curve: '\n",
    "                   'AP={0:0.2f}'.format(average_precision));"
   ]
  },
  {
   "cell_type": "markdown",
   "id": "controlled-ballot",
   "metadata": {},
   "source": [
    "## draw decision tree graph"
   ]
  },
  {
   "cell_type": "code",
   "execution_count": 18,
   "id": "sticky-barbados",
   "metadata": {},
   "outputs": [],
   "source": [
    "from sklearn.tree import export_graphviz\n",
    "export_graphviz(DT_clf,\n",
    "               out_file='tree.dot',\n",
    "               feature_names=X.columns,\n",
    "               class_names='Class',\n",
    "               rounded=True,\n",
    "               filled=True)"
   ]
  },
  {
   "cell_type": "code",
   "execution_count": 19,
   "id": "thrown-westminster",
   "metadata": {},
   "outputs": [
    {
     "data": {
      "image/png": "[encoded data removed]",
      "text/plain": [
       "<Figure size 1152x864 with 1 Axes>"
      ]
     },
     "metadata": {
      "needs_background": "light"
     },
     "output_type": "display_data"
    }
   ],
   "source": [
    "fig, ax = plt.subplots(figsize=(16, 12)) \n",
    "\n",
    "tree.plot_tree(DT_clf,\n",
    "               feature_names=X.columns,\n",
    "               class_names='Class',\n",
    "               rounded=True,\n",
    "               filled=True)\n",
    "plt.show();"
   ]
  },
  {
   "cell_type": "markdown",
   "id": "pressed-strengthening",
   "metadata": {},
   "source": [
    "## Evaluating decision tree performane\n",
    "\n",
    "The accuracy of the decision tree for the test data was 95% and due to the confusion matrix and precision-recall diagram it had an acceptable performance for classifying the test data.\n",
    "The Precision and Recal diagrams also show that the performance of the decision tree is good for categorizing data."
   ]
  },
  {
   "cell_type": "markdown",
   "id": "mobile-madonna",
   "metadata": {},
   "source": [
    "## KNN model"
   ]
  },
  {
   "cell_type": "code",
   "execution_count": 20,
   "id": "historic-extension",
   "metadata": {},
   "outputs": [
    {
     "data": {
      "text/plain": [
       "KNeighborsClassifier()"
      ]
     },
     "execution_count": 20,
     "metadata": {},
     "output_type": "execute_result"
    }
   ],
   "source": [
    "from sklearn.neighbors import KNeighborsClassifier\n",
    "knn = KNeighborsClassifier(n_neighbors=5)\n",
    "knn.fit(X_train, y_train)"
   ]
  },
  {
   "cell_type": "markdown",
   "id": "advised-fleet",
   "metadata": {},
   "source": [
    "## results of KNN model for train set"
   ]
  },
  {
   "cell_type": "code",
   "execution_count": 21,
   "id": "enormous-colony",
   "metadata": {},
   "outputs": [
    {
     "name": "stdout",
     "output_type": "stream",
     "text": [
      "Train results:\n",
      "\n",
      "Accuracy score: 0.9749 \n",
      "\n",
      "Classification report:               precision    recall  f1-score   support\n",
      "\n",
      "           2       0.99      0.97      0.98       299\n",
      "           4       0.95      0.98      0.97       179\n",
      "\n",
      "    accuracy                           0.97       478\n",
      "   macro avg       0.97      0.98      0.97       478\n",
      "weighted avg       0.98      0.97      0.97       478\n",
      " \n",
      "\n",
      "Confusion matrix:\n",
      " [[290   9]\n",
      " [  3 176]] \n",
      "\n",
      "Average accuracy: \t 0.9602\n",
      "Accuracy SD: \t\t 0.0237\n"
     ]
    }
   ],
   "source": [
    "print_score(knn, X_train, y_train, X_test, y_test, train=True)"
   ]
  },
  {
   "cell_type": "markdown",
   "id": "latest-extent",
   "metadata": {},
   "source": [
    "## results of KNN model for test set"
   ]
  },
  {
   "cell_type": "code",
   "execution_count": 22,
   "id": "first-ranking",
   "metadata": {},
   "outputs": [
    {
     "name": "stdout",
     "output_type": "stream",
     "text": [
      "Test results:\n",
      "\n",
      "Accuracy score: 0.9854 \n",
      "\n",
      "Classification report:               precision    recall  f1-score   support\n",
      "\n",
      "           2       0.99      0.99      0.99       145\n",
      "           4       0.98      0.97      0.97        60\n",
      "\n",
      "    accuracy                           0.99       205\n",
      "   macro avg       0.98      0.98      0.98       205\n",
      "weighted avg       0.99      0.99      0.99       205\n",
      " \n",
      "\n",
      "Confusion matrix:\n",
      " [[144   1]\n",
      " [  2  58]] \n",
      "\n"
     ]
    }
   ],
   "source": [
    "print_score(knn, X_train, y_train, X_test, y_test, train=False)"
   ]
  },
  {
   "cell_type": "markdown",
   "id": "curious-branch",
   "metadata": {},
   "source": [
    "## precision and recall score for KNN model"
   ]
  },
  {
   "cell_type": "code",
   "execution_count": 23,
   "id": "atomic-statistics",
   "metadata": {},
   "outputs": [
    {
     "name": "stdout",
     "output_type": "stream",
     "text": [
      "Average precision-recall score: 0.70\n"
     ]
    }
   ],
   "source": [
    "average_precision = average_precision_score(y_test, knn.predict(X_test), pos_label=2)\n",
    "\n",
    "print('Average precision-recall score: {0:0.2f}'.format(\n",
    "      average_precision))"
   ]
  },
  {
   "cell_type": "markdown",
   "id": "caring-operation",
   "metadata": {},
   "source": [
    "## precision and recall plot for KNN model"
   ]
  },
  {
   "cell_type": "code",
   "execution_count": 24,
   "id": "quick-sherman",
   "metadata": {},
   "outputs": [
    {
     "data": {
      "image/png": "[encoded data removed]",
      "text/plain": [
       "<Figure size 432x288 with 1 Axes>"
      ]
     },
     "metadata": {
      "needs_background": "light"
     },
     "output_type": "display_data"
    }
   ],
   "source": [
    "average_precision = average_precision_score(y_test, knn.predict(X_test), pos_label=2)\n",
    "\n",
    "disp = plot_precision_recall_curve(knn, X_test, y_test)\n",
    "disp.ax_.set_title('2-class Precision-Recall curve: '\n",
    "                   'AP={0:0.2f}'.format(average_precision));"
   ]
  },
  {
   "cell_type": "markdown",
   "id": "ranging-headquarters",
   "metadata": {},
   "source": [
    "## Evaluating KNN performane\n",
    "In this project, multiple nearest neighbor parameters have been checked to find optimal number for K.\n",
    "We modeled KNN for k=1,2,3,4,5,6 and the best results achieved for k=5.\n",
    "The KNN accuracy for test data is 98% and due to the confusion matrix and precision-recall diagram it has a very good performance for classifying test data.\n",
    "The performance of the knn model in this project has been better than the decision tree."
   ]
  },
  {
   "cell_type": "markdown",
   "id": "alpha-handle",
   "metadata": {},
   "source": [
    "## Gaussian Naive Bayes model"
   ]
  },
  {
   "cell_type": "code",
   "execution_count": 25,
   "id": "foreign-ceremony",
   "metadata": {},
   "outputs": [
    {
     "data": {
      "text/plain": [
       "GaussianNB()"
      ]
     },
     "execution_count": 25,
     "metadata": {},
     "output_type": "execute_result"
    }
   ],
   "source": [
    "from sklearn.naive_bayes import GaussianNB\n",
    "GNB_clf = GaussianNB()\n",
    "GNB_clf.fit(X_train, y_train)"
   ]
  },
  {
   "cell_type": "markdown",
   "id": "satisfied-transcription",
   "metadata": {},
   "source": [
    "## results of Gaussian Naive Bayes model for train set"
   ]
  },
  {
   "cell_type": "code",
   "execution_count": 26,
   "id": "pointed-contact",
   "metadata": {},
   "outputs": [
    {
     "name": "stdout",
     "output_type": "stream",
     "text": [
      "Train results:\n",
      "\n",
      "Accuracy score: 0.9561 \n",
      "\n",
      "Classification report:               precision    recall  f1-score   support\n",
      "\n",
      "           2       0.98      0.95      0.96       299\n",
      "           4       0.92      0.97      0.94       179\n",
      "\n",
      "    accuracy                           0.96       478\n",
      "   macro avg       0.95      0.96      0.95       478\n",
      "weighted avg       0.96      0.96      0.96       478\n",
      " \n",
      "\n",
      "Confusion matrix:\n",
      " [[284  15]\n",
      " [  6 173]] \n",
      "\n",
      "Average accuracy: \t 0.9539\n",
      "Accuracy SD: \t\t 0.0261\n"
     ]
    }
   ],
   "source": [
    "print_score(GNB_clf, X_train, y_train, X_test, y_test, train=True)"
   ]
  },
  {
   "cell_type": "markdown",
   "id": "cloudy-engineering",
   "metadata": {},
   "source": [
    "## results of Gaussian Naive Bayes model for test set"
   ]
  },
  {
   "cell_type": "code",
   "execution_count": 27,
   "id": "incoming-library",
   "metadata": {},
   "outputs": [
    {
     "name": "stdout",
     "output_type": "stream",
     "text": [
      "Test results:\n",
      "\n",
      "Accuracy score: 0.9707 \n",
      "\n",
      "Classification report:               precision    recall  f1-score   support\n",
      "\n",
      "           2       0.99      0.97      0.98       145\n",
      "           4       0.92      0.98      0.95        60\n",
      "\n",
      "    accuracy                           0.97       205\n",
      "   macro avg       0.96      0.97      0.97       205\n",
      "weighted avg       0.97      0.97      0.97       205\n",
      " \n",
      "\n",
      "Confusion matrix:\n",
      " [[140   5]\n",
      " [  1  59]] \n",
      "\n"
     ]
    }
   ],
   "source": [
    "print_score(GNB_clf, X_train, y_train, X_test, y_test, train=False)"
   ]
  },
  {
   "cell_type": "markdown",
   "id": "stupid-budapest",
   "metadata": {},
   "source": [
    "## precision and recall score for Gaussian Naive Bayes model"
   ]
  },
  {
   "cell_type": "code",
   "execution_count": 28,
   "id": "former-entrance",
   "metadata": {},
   "outputs": [
    {
     "name": "stdout",
     "output_type": "stream",
     "text": [
      "Average precision-recall score: 0.69\n"
     ]
    }
   ],
   "source": [
    "average_precision = average_precision_score(y_test, GNB_clf.predict(X_test), pos_label=2)\n",
    "\n",
    "print('Average precision-recall score: {0:0.2f}'.format(\n",
    "      average_precision))"
   ]
  },
  {
   "cell_type": "markdown",
   "id": "unable-magazine",
   "metadata": {},
   "source": [
    "## precision and recall plot for Gaussian Naive Bayes model"
   ]
  },
  {
   "cell_type": "code",
   "execution_count": 29,
   "id": "third-president",
   "metadata": {},
   "outputs": [
    {
     "data": {
      "image/png": "[encoded data removed]",
      "text/plain": [
       "<Figure size 432x288 with 1 Axes>"
      ]
     },
     "metadata": {
      "needs_background": "light"
     },
     "output_type": "display_data"
    }
   ],
   "source": [
    "average_precision = average_precision_score(y_test, GNB_clf.predict(X_test), pos_label=2)\n",
    "\n",
    "disp = plot_precision_recall_curve(GNB_clf, X_test, y_test)\n",
    "disp.ax_.set_title('2-class Precision-Recall curve: '\n",
    "                   'AP={0:0.2f}'.format(average_precision));"
   ]
  },
  {
   "cell_type": "markdown",
   "id": "fundamental-grounds",
   "metadata": {},
   "source": [
    "## Evaluating Gaussian Naive Bayes performane\n",
    "The Gaussian Naive Bayes accuracy for test data was 97% and due to the confusion matrix and precision-recall diagram it had an acceptable performance for classifying test data and its performance was worse than the knn and better than decision tree model."
   ]
  },
  {
   "cell_type": "markdown",
   "id": "pending-refrigerator",
   "metadata": {},
   "source": [
    "## Random Forest model"
   ]
  },
  {
   "cell_type": "code",
   "execution_count": 30,
   "id": "impressive-spiritual",
   "metadata": {},
   "outputs": [
    {
     "data": {
      "text/plain": [
       "RandomForestClassifier(random_state=42)"
      ]
     },
     "execution_count": 30,
     "metadata": {},
     "output_type": "execute_result"
    }
   ],
   "source": [
    "from sklearn.ensemble import RandomForestClassifier\n",
    "rf_clf = RandomForestClassifier(random_state=42)\n",
    "rf_clf.fit(X_train, y_train)"
   ]
  },
  {
   "cell_type": "markdown",
   "id": "finnish-elephant",
   "metadata": {},
   "source": [
    "## results of Random Forest model for train set"
   ]
  },
  {
   "cell_type": "code",
   "execution_count": 31,
   "id": "polished-enemy",
   "metadata": {},
   "outputs": [
    {
     "name": "stdout",
     "output_type": "stream",
     "text": [
      "Train results:\n",
      "\n",
      "Accuracy score: 1.0000 \n",
      "\n",
      "Classification report:               precision    recall  f1-score   support\n",
      "\n",
      "           2       1.00      1.00      1.00       299\n",
      "           4       1.00      1.00      1.00       179\n",
      "\n",
      "    accuracy                           1.00       478\n",
      "   macro avg       1.00      1.00      1.00       478\n",
      "weighted avg       1.00      1.00      1.00       478\n",
      " \n",
      "\n",
      "Confusion matrix:\n",
      " [[299   0]\n",
      " [  0 179]] \n",
      "\n",
      "Average accuracy: \t 0.9644\n",
      "Accuracy SD: \t\t 0.0249\n"
     ]
    }
   ],
   "source": [
    "print_score(rf_clf, X_train, y_train, X_test, y_test, train=True)"
   ]
  },
  {
   "cell_type": "markdown",
   "id": "variable-request",
   "metadata": {},
   "source": [
    "## results of Random Forest model for test set"
   ]
  },
  {
   "cell_type": "code",
   "execution_count": 32,
   "id": "assumed-array",
   "metadata": {},
   "outputs": [
    {
     "name": "stdout",
     "output_type": "stream",
     "text": [
      "Test results:\n",
      "\n",
      "Accuracy score: 0.9854 \n",
      "\n",
      "Classification report:               precision    recall  f1-score   support\n",
      "\n",
      "           2       0.99      0.99      0.99       145\n",
      "           4       0.98      0.97      0.97        60\n",
      "\n",
      "    accuracy                           0.99       205\n",
      "   macro avg       0.98      0.98      0.98       205\n",
      "weighted avg       0.99      0.99      0.99       205\n",
      " \n",
      "\n",
      "Confusion matrix:\n",
      " [[144   1]\n",
      " [  2  58]] \n",
      "\n"
     ]
    }
   ],
   "source": [
    "print_score(rf_clf, X_train, y_train, X_test, y_test, train=False)"
   ]
  },
  {
   "cell_type": "markdown",
   "id": "narrow-muscle",
   "metadata": {},
   "source": [
    "## precision and recall score for Random Forest model"
   ]
  },
  {
   "cell_type": "code",
   "execution_count": 33,
   "id": "legendary-dubai",
   "metadata": {},
   "outputs": [
    {
     "name": "stdout",
     "output_type": "stream",
     "text": [
      "Average precision-recall score: 0.70\n"
     ]
    }
   ],
   "source": [
    "average_precision = average_precision_score(y_test, rf_clf.predict(X_test), pos_label=2)\n",
    "\n",
    "print('Average precision-recall score: {0:0.2f}'.format(\n",
    "      average_precision))"
   ]
  },
  {
   "cell_type": "markdown",
   "id": "included-objective",
   "metadata": {},
   "source": [
    "## precision and recall plot for Random Forest model"
   ]
  },
  {
   "cell_type": "code",
   "execution_count": 34,
   "id": "hydraulic-sensitivity",
   "metadata": {},
   "outputs": [
    {
     "data": {
      "image/png": "[encoded data removed]",
      "text/plain": [
       "<Figure size 432x288 with 1 Axes>"
      ]
     },
     "metadata": {
      "needs_background": "light"
     },
     "output_type": "display_data"
    }
   ],
   "source": [
    "average_precision = average_precision_score(y_test, rf_clf.predict(X_test), pos_label=2)\n",
    "\n",
    "disp = plot_precision_recall_curve(rf_clf, X_test, y_test)\n",
    "disp.ax_.set_title('2-class Precision-Recall curve: '\n",
    "                   'AP={0:0.2f}'.format(average_precision));"
   ]
  },
  {
   "cell_type": "markdown",
   "id": "opened-authority",
   "metadata": {},
   "source": [
    "## Evaluating Random Forest performane\n",
    "The random forest accuracy for the test data was 98% and due to the confusion matrix and precision-recall diagram and it had very good performance for classifying the test data. Random forest performance has been better than GNB and the decision tree and was almost similar to knn."
   ]
  },
  {
   "cell_type": "markdown",
   "id": "minute-briefs",
   "metadata": {},
   "source": [
    "## neural network model"
   ]
  },
  {
   "cell_type": "code",
   "execution_count": 35,
   "id": "continued-photographer",
   "metadata": {},
   "outputs": [
    {
     "name": "stderr",
     "output_type": "stream",
     "text": [
      "F:\\Anaconda3\\envs\\myenv\\lib\\site-packages\\sklearn\\neural_network\\_multilayer_perceptron.py:617: ConvergenceWarning: Stochastic Optimizer: Maximum iterations (200) reached and the optimization hasn't converged yet.\n",
      "  % self.max_iter, ConvergenceWarning)\n"
     ]
    },
    {
     "data": {
      "text/plain": [
       "MLPClassifier()"
      ]
     },
     "execution_count": 35,
     "metadata": {},
     "output_type": "execute_result"
    }
   ],
   "source": [
    "from sklearn.neural_network import MLPClassifier\n",
    "nn_clf = MLPClassifier()\n",
    "nn_clf.fit(X_train, y_train)"
   ]
  },
  {
   "cell_type": "markdown",
   "id": "wanted-gossip",
   "metadata": {},
   "source": [
    "## results of neural network model for train set"
   ]
  },
  {
   "cell_type": "code",
   "execution_count": 36,
   "id": "better-possession",
   "metadata": {},
   "outputs": [
    {
     "name": "stdout",
     "output_type": "stream",
     "text": [
      "Train results:\n",
      "\n",
      "Accuracy score: 0.9833 \n",
      "\n",
      "Classification report:               precision    recall  f1-score   support\n",
      "\n",
      "           2       0.99      0.98      0.99       299\n",
      "           4       0.97      0.99      0.98       179\n",
      "\n",
      "    accuracy                           0.98       478\n",
      "   macro avg       0.98      0.98      0.98       478\n",
      "weighted avg       0.98      0.98      0.98       478\n",
      " \n",
      "\n",
      "Confusion matrix:\n",
      " [[293   6]\n",
      " [  2 177]] \n",
      "\n"
     ]
    },
    {
     "name": "stderr",
     "output_type": "stream",
     "text": [
      "F:\\Anaconda3\\envs\\myenv\\lib\\site-packages\\sklearn\\neural_network\\_multilayer_perceptron.py:617: ConvergenceWarning: Stochastic Optimizer: Maximum iterations (200) reached and the optimization hasn't converged yet.\n",
      "  % self.max_iter, ConvergenceWarning)\n",
      "F:\\Anaconda3\\envs\\myenv\\lib\\site-packages\\sklearn\\neural_network\\_multilayer_perceptron.py:617: ConvergenceWarning: Stochastic Optimizer: Maximum iterations (200) reached and the optimization hasn't converged yet.\n",
      "  % self.max_iter, ConvergenceWarning)\n",
      "F:\\Anaconda3\\envs\\myenv\\lib\\site-packages\\sklearn\\neural_network\\_multilayer_perceptron.py:617: ConvergenceWarning: Stochastic Optimizer: Maximum iterations (200) reached and the optimization hasn't converged yet.\n",
      "  % self.max_iter, ConvergenceWarning)\n",
      "F:\\Anaconda3\\envs\\myenv\\lib\\site-packages\\sklearn\\neural_network\\_multilayer_perceptron.py:617: ConvergenceWarning: Stochastic Optimizer: Maximum iterations (200) reached and the optimization hasn't converged yet.\n",
      "  % self.max_iter, ConvergenceWarning)\n",
      "F:\\Anaconda3\\envs\\myenv\\lib\\site-packages\\sklearn\\neural_network\\_multilayer_perceptron.py:617: ConvergenceWarning: Stochastic Optimizer: Maximum iterations (200) reached and the optimization hasn't converged yet.\n",
      "  % self.max_iter, ConvergenceWarning)\n",
      "F:\\Anaconda3\\envs\\myenv\\lib\\site-packages\\sklearn\\neural_network\\_multilayer_perceptron.py:617: ConvergenceWarning: Stochastic Optimizer: Maximum iterations (200) reached and the optimization hasn't converged yet.\n",
      "  % self.max_iter, ConvergenceWarning)\n",
      "F:\\Anaconda3\\envs\\myenv\\lib\\site-packages\\sklearn\\neural_network\\_multilayer_perceptron.py:617: ConvergenceWarning: Stochastic Optimizer: Maximum iterations (200) reached and the optimization hasn't converged yet.\n",
      "  % self.max_iter, ConvergenceWarning)\n",
      "F:\\Anaconda3\\envs\\myenv\\lib\\site-packages\\sklearn\\neural_network\\_multilayer_perceptron.py:617: ConvergenceWarning: Stochastic Optimizer: Maximum iterations (200) reached and the optimization hasn't converged yet.\n",
      "  % self.max_iter, ConvergenceWarning)\n",
      "F:\\Anaconda3\\envs\\myenv\\lib\\site-packages\\sklearn\\neural_network\\_multilayer_perceptron.py:617: ConvergenceWarning: Stochastic Optimizer: Maximum iterations (200) reached and the optimization hasn't converged yet.\n",
      "  % self.max_iter, ConvergenceWarning)\n"
     ]
    },
    {
     "name": "stdout",
     "output_type": "stream",
     "text": [
      "Average accuracy: \t 0.9623\n",
      "Accuracy SD: \t\t 0.0225\n"
     ]
    },
    {
     "name": "stderr",
     "output_type": "stream",
     "text": [
      "F:\\Anaconda3\\envs\\myenv\\lib\\site-packages\\sklearn\\neural_network\\_multilayer_perceptron.py:617: ConvergenceWarning: Stochastic Optimizer: Maximum iterations (200) reached and the optimization hasn't converged yet.\n",
      "  % self.max_iter, ConvergenceWarning)\n"
     ]
    }
   ],
   "source": [
    "print_score(nn_clf, X_train, y_train, X_test, y_test, train=True)"
   ]
  },
  {
   "cell_type": "markdown",
   "id": "starting-weapon",
   "metadata": {},
   "source": [
    "## results of neural network model for test set"
   ]
  },
  {
   "cell_type": "code",
   "execution_count": 37,
   "id": "satellite-malpractice",
   "metadata": {},
   "outputs": [
    {
     "name": "stdout",
     "output_type": "stream",
     "text": [
      "Test results:\n",
      "\n",
      "Accuracy score: 0.9854 \n",
      "\n",
      "Classification report:               precision    recall  f1-score   support\n",
      "\n",
      "           2       0.99      0.99      0.99       145\n",
      "           4       0.98      0.97      0.97        60\n",
      "\n",
      "    accuracy                           0.99       205\n",
      "   macro avg       0.98      0.98      0.98       205\n",
      "weighted avg       0.99      0.99      0.99       205\n",
      " \n",
      "\n",
      "Confusion matrix:\n",
      " [[144   1]\n",
      " [  2  58]] \n",
      "\n"
     ]
    }
   ],
   "source": [
    "print_score(nn_clf, X_train, y_train, X_test, y_test, train=False)"
   ]
  },
  {
   "cell_type": "markdown",
   "id": "parallel-sacrifice",
   "metadata": {},
   "source": [
    "## precision and recall score for neural network model"
   ]
  },
  {
   "cell_type": "code",
   "execution_count": 38,
   "id": "polish-magnet",
   "metadata": {},
   "outputs": [
    {
     "name": "stdout",
     "output_type": "stream",
     "text": [
      "Average precision-recall score: 0.70\n"
     ]
    }
   ],
   "source": [
    "average_precision = average_precision_score(y_test, nn_clf.predict(X_test), pos_label=2)\n",
    "\n",
    "print('Average precision-recall score: {0:0.2f}'.format(\n",
    "      average_precision))"
   ]
  },
  {
   "cell_type": "markdown",
   "id": "republican-engine",
   "metadata": {},
   "source": [
    "## precision and recall plot for neural network model"
   ]
  },
  {
   "cell_type": "code",
   "execution_count": 39,
   "id": "alone-formula",
   "metadata": {},
   "outputs": [
    {
     "data": {
      "image/png": "[encoded data removed]",
      "text/plain": [
       "<Figure size 432x288 with 1 Axes>"
      ]
     },
     "metadata": {
      "needs_background": "light"
     },
     "output_type": "display_data"
    }
   ],
   "source": [
    "average_precision = average_precision_score(y_test, nn_clf.predict(X_test), pos_label=2)\n",
    "\n",
    "disp = plot_precision_recall_curve(nn_clf, X_test, y_test)\n",
    "disp.ax_.set_title('2-class Precision-Recall curve: '\n",
    "                   'AP={0:0.2f}'.format(average_precision));"
   ]
  },
  {
   "cell_type": "markdown",
   "id": "incorrect-twelve",
   "metadata": {},
   "source": [
    "## Evaluating neural network performane\n",
    "The neural network accuracy for the test data was 96% and due to the confusion matrix and precision-recall diagram and it had a very good performance for classifying the test data. The performance of the neural network was better than GNB and decision tree and was almost similar to knn and random forest."
   ]
  },
  {
   "cell_type": "markdown",
   "id": "lyric-oklahoma",
   "metadata": {},
   "source": [
    "## compare results of models"
   ]
  },
  {
   "cell_type": "code",
   "execution_count": 40,
   "id": "metric-point",
   "metadata": {},
   "outputs": [
    {
     "data": {
      "image/png": "[encoded data removed]",
      "text/plain": [
       "<Figure size 432x288 with 1 Axes>"
      ]
     },
     "metadata": {
      "needs_background": "light"
     },
     "output_type": "display_data"
    }
   ],
   "source": [
    "results = {}\n",
    "results['DecisionTree'] = accuracy_score(y_test, DT_clf.predict(X_test))*100\n",
    "results['KNN'] = accuracy_score(y_test, knn.predict(X_test))*100\n",
    "results['GausianNaive'] = accuracy_score(y_test, GNB_clf.predict(X_test))*100\n",
    "results['RandomForest'] = accuracy_score(y_test, rf_clf.predict(X_test))*100\n",
    "results['NeuralNetworks'] = accuracy_score(y_test, nn_clf.predict(X_test))*100\n",
    "\n",
    "plt.bar(range(len(results)), results.values(), align='center')\n",
    "plt.xticks(range(len(results)), list(results.keys()), rotation='vertical')\n",
    "plt.title(\"Accuracy of Models\")\n",
    "plt.xlabel(\"Models\")\n",
    "plt.ylabel(\"Accuracy\")\n",
    "plt.show()"
   ]
  },
  {
   "cell_type": "markdown",
   "id": "theoretical-washington",
   "metadata": {},
   "source": [
    "## Concolusion\n",
    "According to the comparison diagram of the accuracy of the models, confusion matrix and precision-recall diagram, all models had good performance, but for this data set the neural network, knn and random forest was better than the others."
   ]
  },
  {
   "cell_type": "code",
   "execution_count": null,
   "id": "advanced-shoulder",
   "metadata": {},
   "outputs": [],
   "source": []
  },
  {
   "cell_type": "code",
   "execution_count": null,
   "id": "danish-station",
   "metadata": {},
   "outputs": [],
   "source": []
  }
 ],
 "metadata": {
  "kernelspec": {
   "display_name": "Python 3",
   "language": "python",
   "name": "python3"
  },
  "language_info": {
   "codemirror_mode": {
    "name": "ipython",
    "version": 3
   },
   "file_extension": ".py",
   "mimetype": "text/x-python",
   "name": "python",
   "nbconvert_exporter": "python",
   "pygments_lexer": "ipython3",
   "version": "3.7.7"
  }
 },
 "nbformat": 4,
 "nbformat_minor": 5
}
